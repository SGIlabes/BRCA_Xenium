{
 "cells": [
  {
   "cell_type": "markdown",
   "id": "26b869c9-ed0b-4b01-94ba-8e0f288f33e0",
   "metadata": {},
   "source": [
    "#  1. Libary & Data "
   ]
  },
  {
   "cell_type": "code",
   "execution_count": null,
   "id": "a09a044c-80aa-44ae-abbe-aeb8412aa5d6",
   "metadata": {},
   "outputs": [],
   "source": [
    "import numpy as np\n",
    "import pandas as pd\n",
    "import scanpy as sc\n",
    "import squidpy as sq\n",
    "from squidpy.im import ImageContainer\n",
    "import pickle\n",
    "import copy\n",
    "import seaborn as sns\n",
    "import matplotlib.colors\n",
    "import matplotlib as mpl\n",
    "from matplotlib.colors import ListedColormap\n",
    "import matplotlib.pyplot as plt\n",
    "import stlearn as st\n",
    "from anndata import AnnData\n",
    "from sklearn.model_selection import (train_test_split,) \n",
    "import tensorflow as tf\n",
    "from tensorflow.keras.layers.experimental import (preprocessing,)\n",
    "import locale\n",
    "import matplotlib.font_manager as fm\n",
    "import plotly.express as px\n",
    "\n",
    "sc.settings.verbosity=3\n",
    "sc.settings.set_figure_params(dpi=100, fontsize=10, dpi_save=600, format='pdf')\n",
    "path = '/path/data/brca'"
   ]
  },
  {
   "cell_type": "code",
   "execution_count": null,
   "id": "6eb3e2fe-940f-4193-be2b-d01520d649ff",
   "metadata": {},
   "outputs": [],
   "source": [
    "save_file=path+\"/object/adata.h5ad\"\n",
    "adata=sc.read_h5ad(save_file)"
   ]
  },
  {
   "cell_type": "markdown",
   "id": "07abcb6f-3c60-4130-9323-6b7a1e726081",
   "metadata": {},
   "source": [
    "# 2. Gene Cluster Assign"
   ]
  },
  {
   "cell_type": "code",
   "execution_count": null,
   "id": "8ac039ae-6113-4446-a630-8da3962976cc",
   "metadata": {},
   "outputs": [],
   "source": [
    "# Data filtering & Default setting \n",
    "cd8_cells = adata[adata.obs['cell_tyepe'].isin(['CD8T'])]\n",
    "cd8_cells.obs['cell_id'] = cd8_cells.obs['cell_id'].astype('category')\n",
    "\n",
    "# Gene panel load \n",
    "gene_function_path = '/path/marker/cd8_gene_annot_panel.xlsx'\n",
    "gene_function_panel = pd.read_excel(gene_function_path, index_col=0)\n",
    "gene_function_panel = gene_function_panel.iloc[1:, :1]\n",
    "gene_function_panel.columns = ['Function']\n",
    "\n",
    "# Marker gene \n",
    "marker_genes = gene_function_panel[gene_function_panel['Function'].str.contains('marker')].index.tolist()\n",
    "gene_metadata = copy.deepcopy(cd8_cells.var)\n",
    "common_marker_genes = list(set(gene_metadata.index).intersection(marker_genes))\n",
    "gene_metadata.loc[common_marker_genes, 'Markers'] = gene_function_panel.loc[common_marker_genes, 'Function']\n",
    "gene_metadata['Markers'] = gene_metadata['Markers'].apply(lambda x: 'N.A.' if 'marker' not in str(x) else x)\n",
    "\n",
    "# Cell id \n",
    "cell_counts = cd8_cells.obs['cell_id'].value_counts()\n",
    "cell_counts.name = 'cell counts'\n",
    "cluster_metadata = pd.DataFrame(cell_counts)\n",
    "\n",
    "# Signature matrix \n",
    "signature_matrix = pd.DataFrame(columns=cd8_cells.var_names, index=cd8_cells.obs['cell_id'].cat.categories)\n",
    "for cluster_id in cd8_cells.obs['cell_id'].cat.categories:\n",
    "    signature_matrix.loc[cluster_id] = cd8_cells[cd8_cells.obs['cell_id'].isin([cluster_id]), :].X.mean(0)\n",
    "\n",
    "signature_matrix = signature_matrix.transpose()\n",
    "\n",
    "# Meta data \n",
    "# cluster_metadata.index = ['cell_id' + str(x) for x in signature_matrix.columns]\n",
    "cluster_metadata['cell_id'] = cluster_metadata.index\n",
    "\n",
    "# Assign marker per cell \n",
    "num_top_genes = 30\n",
    "for cluster in signature_matrix.columns:\n",
    "    top_genes = signature_matrix[cluster].sort_values(ascending=False).head(num_top_genes).index\n",
    "    marker_series = gene_metadata.loc[top_genes, 'Markers']\n",
    "    marker_series = marker_series[marker_series != 'N.A.']\n",
    "    marker_counts = marker_series.value_counts()\n",
    "    \n",
    "    if not marker_counts.empty:\n",
    "        most_common_marker = '_'.join(marker_counts.idxmax().split(' marker')).replace(' ', '-')\n",
    "        cluster_metadata.loc[cluster, 'Cell_Type'] = most_common_marker\n",
    "    else:\n",
    "        cluster_metadata.loc[cluster, 'Cell_Type'] = 'Unknown'\n",
    "\n",
    "# Name cluster\n",
    "cluster_metadata['cell_id'] = cluster_metadata['cell_id'].astype(str)\n",
    "cluster_metadata['Cell_Type'] = cluster_metadata['Cell_Type'].astype(str)  # 모든 Cell_Type 값을 문자열로 변환\n",
    "cluster_metadata['name'] = cluster_metadata.apply(lambda x: x['cell_id'] + '_' + x['Cell_Type'], axis=1)\n",
    "cluster_names = cluster_metadata['name'].tolist()\n",
    "cluster_metadata.index = cluster_names\n",
    "\n",
    "# Transfer \n",
    "cell_type_mapping = cluster_metadata.set_index('cell_id')['Cell_Type']\n",
    "cd8_cells.obs['Cell_Type'] = cd8_cells.obs['cell_id'].map(cell_type_mapping)\n",
    "cluster_name_mapping = cluster_metadata.set_index('cell_id')['name']\n",
    "cd8_cells.obs['Cluster'] = cd8_cells.obs['cell_id'].map(cluster_name_mapping)\n",
    "cd8_cells.obs['New_cluster'] = cd8_cells.obs['Cell_Type'].str.split('_').str[0]\n",
    "\n"
   ]
  }
 ],
 "metadata": {
  "kernelspec": {
   "display_name": "Python 3 (ipykernel)",
   "language": "python",
   "name": "python3"
  },
  "language_info": {
   "codemirror_mode": {
    "name": "ipython",
    "version": 3
   },
   "file_extension": ".py",
   "mimetype": "text/x-python",
   "name": "python",
   "nbconvert_exporter": "python",
   "pygments_lexer": "ipython3",
   "version": "3.10.9"
  }
 },
 "nbformat": 4,
 "nbformat_minor": 5
}
