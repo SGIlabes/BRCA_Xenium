{
 "cells": [
  {
   "cell_type": "markdown",
   "id": "d4eb38df-cbea-4e05-a085-64cbf655acf9",
   "metadata": {},
   "source": [
    "# 1. Library, Data"
   ]
  },
  {
   "cell_type": "code",
   "execution_count": null,
   "id": "f24971f7-f201-482e-bfb3-a8ef79c536e1",
   "metadata": {},
   "outputs": [],
   "source": [
    "import numpy as np\n",
    "import pandas as pd\n",
    "import scanpy as sc\n",
    "import squidpy as sq\n",
    "from squidpy.im import ImageContainer\n",
    "import pickle\n",
    "import os \n",
    "import seaborn as sns\n",
    "import matplotlib.colors\n",
    "import matplotlib as mpl\n",
    "from matplotlib.colors import ListedColormap\n",
    "import matplotlib.pyplot as plt\n",
    "import stlearn as st\n",
    "from anndata import AnnData\n",
    "from sklearn.model_selection import (train_test_split,) \n",
    "import tensorflow as tf\n",
    "from tensorflow.keras.layers.experimental import (preprocessing,)\n",
    "sc.settings.verbosity=3\n",
    "sc.settings.set_figure_params(dpi=100, fontsize=10, dpi_save=600, format='tiff',)\n",
    "path = '/path/data/brca'\n"
   ]
  },
  {
   "cell_type": "code",
   "execution_count": null,
   "id": "e85dbebc-6cf9-4fa6-8f9b-cd2c197d8376",
   "metadata": {},
   "outputs": [],
   "source": [
    "save_file=path+\"/object/adata.h5ad\"\n",
    "adata=sc.read_h5ad(save_file)"
   ]
  },
  {
   "cell_type": "code",
   "execution_count": null,
   "id": "75e6b12c-82ba-4fdc-a616-ccc03b86d9d0",
   "metadata": {},
   "outputs": [],
   "source": [
    "df = pd.read_csv(path+'tumor_border.csv')\n",
    "vertices = df[['X', 'Y']].values.tolist() \n",
    "from matplotlib.path import Path\n",
    "boundary = Path(vertices)\n",
    "coords = adata.obsm['spatial']\n",
    "is_inside = [boundary.contains_point(coord) for coord in coords]"
   ]
  },
  {
   "cell_type": "markdown",
   "id": "a3b72c4f-a6d1-487a-a377-d86a21d96280",
   "metadata": {},
   "source": [
    "# 2. Tumor"
   ]
  },
  {
   "cell_type": "code",
   "execution_count": null,
   "id": "7e29d12b-6e56-495f-808f-149da5815fdf",
   "metadata": {},
   "outputs": [],
   "source": [
    "import numpy as np\n",
    "from scipy.interpolate import interp1d\n",
    "from shapely.geometry import Polygon\n",
    "\n",
    "# Coordinates of the polygon (including empty coordinates)\n",
    "polygon_coords = vertices\n",
    "\n",
    "# Remove empty coordinates to get valid coordinates\n",
    "valid_coords = [coord for coord in polygon_coords if coord is not None]\n",
    "\n",
    "# Separate the valid coordinates into x and y values\n",
    "x_coords, y_coords = zip(*valid_coords)\n",
    "\n",
    "# Create an interpolation function\n",
    "interp_func = interp1d(x_coords, y_coords, kind='linear')\n",
    "\n",
    "# Replace empty coordinates by interpolating\n",
    "imputed_coords = []\n",
    "for coord in polygon_coords:\n",
    "    if coord is None:\n",
    "        imputed_y = interp_func(coord[0])\n",
    "        imputed_coords.append((coord[0], imputed_y))\n",
    "    else:\n",
    "        imputed_coords.append(coord)\n",
    "\n",
    "# Create a new polygon with the replaced coordinates\n",
    "imputed_polygon = Polygon(imputed_coords)\n",
    "\n",
    "# Print the result\n",
    "print(imputed_polygon)\n",
    "Polygon(imputed_polygon) # This line creates a polygon from the imputed coordinates"
   ]
  },
  {
   "cell_type": "markdown",
   "id": "6610d9bc-c800-4c28-bb93-149ae1459b0c",
   "metadata": {},
   "source": [
    "# 3. Inward"
   ]
  },
  {
   "cell_type": "code",
   "execution_count": null,
   "id": "04a0c55f-577e-488d-83a2-61b8424eda4e",
   "metadata": {},
   "outputs": [],
   "source": [
    "from shapely.geometry import Polygon, LineString\n",
    "\n",
    "# Coordinates of an irregular polygon\n",
    "polygon_coords = imputed_coords\n",
    "\n",
    "# Create an irregular polygon\n",
    "polygon = Polygon(polygon_coords)\n",
    "\n",
    "# Distance to move inward\n",
    "distance = 500  # unit: um (micrometers)\n",
    "\n",
    "# Create line segments representing the boundary of the irregular polygon\n",
    "boundary_lines = []\n",
    "for i in range(len(polygon_coords)):\n",
    "    start_point = tuple(polygon_coords[i])\n",
    "    end_point = tuple(polygon_coords[(i + 1) % len(polygon_coords)])\n",
    "    line = LineString([start_point, end_point])\n",
    "    boundary_lines.append(line)\n",
    "\n",
    "# Create new line segments moved inward\n",
    "new_lines = []\n",
    "for line in boundary_lines:\n",
    "    # Calculate the normal vector of the line segment\n",
    "    normal_vector = (line.coords[1][1] - line.coords[0][1], line.coords[0][0] - line.coords[1][0])\n",
    "\n",
    "    # Calculate the magnitude of the normal vector\n",
    "    norm = (normal_vector[0] ** 2 + normal_vector[1] ** 2) ** 0.5\n",
    "\n",
    "    # Skip if the magnitude of the normal vector is zero\n",
    "    if norm == 0:\n",
    "        continue\n",
    "\n",
    "    # Convert the normal vector to a unit vector\n",
    "    unit_normal_vector = (normal_vector[0] / norm, normal_vector[1] / norm)\n",
    "\n",
    "    # Create new line segments moved inward\n",
    "    new_start_point = (line.coords[0][0]-distance * unit_normal_vector[0], line.coords[0][1] - distance * unit_normal_vector[1])\n",
    "    new_end_point = (line.coords[1][0]-distance * unit_normal_vector[0], line.coords[1][1] - distance * unit_normal_vector[1])\n",
    "    new_line = LineString([new_start_point, new_end_point])\n",
    "    new_lines.append(new_line)\n",
    "\n",
    "# Create a new polygon with the inwardly moved coordinates\n",
    "new_polygon_coords_inward = []\n",
    "for line in new_lines:\n",
    "    new_polygon_coords_inward.append(line.coords[0])\n",
    "new_polygon = Polygon(new_polygon_coords_inward)\n",
    "\n",
    "# Print the results\n",
    "print(new_polygon_coords_inward)\n"
   ]
  },
  {
   "cell_type": "markdown",
   "id": "9c107584-55bf-4308-bec1-0cc76a8866b8",
   "metadata": {},
   "source": [
    "# 4. Outward"
   ]
  },
  {
   "cell_type": "code",
   "execution_count": null,
   "id": "b87ab9b7-713d-40e7-8d20-33b3d272cb84",
   "metadata": {},
   "outputs": [],
   "source": [
    "from shapely.geometry import Polygon, LineString\n",
    "\n",
    "# Coordinates of an irregular polygon\n",
    "polygon_coords = imputed_coords\n",
    "\n",
    "# Create an irregular polygon\n",
    "polygon = Polygon(polygon_coords)\n",
    "\n",
    "# Distance to move outward\n",
    "distance = 500  # unit: um (micrometers)\n",
    "\n",
    "# Create line segments representing the boundary of the irregular polygon\n",
    "boundary_lines = []\n",
    "for i in range(len(polygon_coords)):\n",
    "    start_point = tuple(polygon_coords[i])\n",
    "    end_point = tuple(polygon_coords[(i + 1) % len(polygon_coords)])\n",
    "    line = LineString([start_point, end_point])\n",
    "    boundary_lines.append(line)\n",
    "\n",
    "# Create new line segments moved outward\n",
    "new_lines = []\n",
    "for line in boundary_lines:\n",
    "    # Calculate the normal vector of the line segment\n",
    "    normal_vector = (line.coords[1][1] - line.coords[0][1], line.coords[0][0] - line.coords[1][0])\n",
    "\n",
    "    # Calculate the magnitude of the normal vector\n",
    "    norm = (normal_vector[0] ** 2 + normal_vector[1] ** 2) ** 0.5\n",
    "\n",
    "    # Skip if the magnitude of the normal vector is zero\n",
    "    if norm == 0:\n",
    "        continue\n",
    "\n",
    "    # Convert the normal vector to a unit vector\n",
    "    unit_normal_vector = (normal_vector[0] / norm, normal_vector[1] / norm)\n",
    "\n",
    "    # Create new line segments moved outward\n",
    "    new_start_point = (line.coords[0][0] + distance * unit_normal_vector[0], line.coords[0][1] + distance * unit_normal_vector[1])\n",
    "    new_end_point = (line.coords[1][0] + distance * unit_normal_vector[1], line.coords[1][1] + distance * unit_normal_vector[1])\n",
    "    new_line = LineString([new_start_point, new_end_point])\n",
    "    new_lines.append(new_line)\n",
    "\n",
    "# Create a new polygon with the outwardly moved coordinates\n",
    "new_polygon_coords_outward = []\n",
    "for line in new_lines:\n",
    "    new_polygon_coords_outward.append(line.coords[0])\n",
    "new_polygon = Polygon(new_polygon_coords_outward)\n",
    "\n",
    "# Print the results\n",
    "print(new_polygon_coords_outward)\n"
   ]
  },
  {
   "cell_type": "markdown",
   "id": "64ff2647-6e21-4428-a21a-51dcac56f919",
   "metadata": {},
   "source": [
    "# 5. Imputation"
   ]
  },
  {
   "cell_type": "code",
   "execution_count": null,
   "id": "6594af10-a63b-482e-8b6d-36d69800c2bc",
   "metadata": {},
   "outputs": [],
   "source": [
    "polygon_inner=Polygon(new_polygon_coords_inward)\n",
    "outer_buffer_distance =\n",
    "inner_buffer_distance = \n",
    "outer_buffered_polygon = polygon_inner.buffer(outer_buffer_distance, join_style=1)\n",
    "smoothed_polygon_inward = outer_buffered_polygon.buffer(inner_buffer_distance, join_style=1)\n",
    "smoothed_polygon_inward\n",
    "smoothed_polygon_inward"
   ]
  },
  {
   "cell_type": "code",
   "execution_count": null,
   "id": "d6207815-fc78-4cae-920a-c37e159b4856",
   "metadata": {},
   "outputs": [],
   "source": [
    "polygon_outer=Polygon(new_polygon_coords_outward)\n",
    "outer_buffer_distance =\n",
    "inner_buffer_distance = \n",
    "outer_buffered_polygon = polygon_outer.buffer(outer_buffer_distance, join_style=1)\n",
    "smoothed_polygon_outer = outer_buffered_polygon.buffer(inner_buffer_distance, join_style=1)\n",
    "smoothed_polygon_outer\n",
    "smoothed_polygon_outer"
   ]
  },
  {
   "cell_type": "code",
   "execution_count": null,
   "id": "3aba008e-39ed-4f83-b9e2-25c240af2aef",
   "metadata": {},
   "outputs": [],
   "source": [
    "polygon_border=Polygon(imputed_coords)\n",
    "outer_buffer_distance = \n",
    "inner_buffer_distance = \n",
    "outer_buffered_polygon = polygon_outer.buffer(outer_buffer_distance, join_style=1)\n",
    "smoothed_polygon_border = outer_buffered_polygon.buffer(inner_buffer_distance, join_style=1)\n",
    "smoothed_polygon_border"
   ]
  },
  {
   "cell_type": "code",
   "execution_count": null,
   "id": "22c599f2-619a-4e69-9183-4667f6e008b4",
   "metadata": {},
   "outputs": [],
   "source": [
    "\n",
    "border_smoothed_coords = smoothed_polygon_border.exterior.coords[:]\n",
    "boundary_border = Path(border_smoothed_coords)\n",
    "is_inside =  np.array([not boundary_border.contains_point(coord) for coord in coords])\n",
    "is_inside = [boundary.contains_point(coord) for coord in coords]\n",
    "subset_adata = adata[is_inside].copy()\n",
    "subset_adata.obs['Tumor']=\"Tumor\"\n",
    "#sq.pl.spatial_scatter(subset_adata, color=\"Level0\",alpha=0.3, size=2,save='spatial_border.pdf')"
   ]
  },
  {
   "cell_type": "code",
   "execution_count": null,
   "id": "1bfeb963-19de-43ef-b8a9-83a7808d7d71",
   "metadata": {},
   "outputs": [],
   "source": [
    "inward_smoothed_coords = smoothed_polygon_inward.exterior.coords[:]\n",
    "boundary_inward = Path(inward_smoothed_coords)\n",
    "is_inside2 =  np.array([not boundary_inward.contains_point(coord) for coord in coords])\n",
    "is_inside2 = [boundary_inward.contains_point(coords) for coords in coords]\n",
    "subset_inward = adata[is_inside2].copy()\n",
    "subset_inward.obs['Tumor_core']=\"Core\"\n",
    "#sq.pl.spatial_scatter(subset_inward, color=\"Level0\",img_alpha=0,alpha=0.3, size=2)"
   ]
  },
  {
   "cell_type": "code",
   "execution_count": null,
   "id": "bb3dfcfc-8cf6-4e62-b5cb-5078195da90c",
   "metadata": {},
   "outputs": [],
   "source": [
    "outward_smoothed_coords = smoothed_polygon_outer.exterior.coords[:]\n",
    "boundary_outward = Path(outward_smoothed_coords)\n",
    "is_inside3 = [boundary_outward.contains_point(coords) for coords in coords]\n",
    "subset_outward = adata[is_inside3].copy()\n",
    "subset_outward.obs['Tumor_outward']=\"Outward\"\n",
    "#sq.pl.spatial_scatter(subset_outward, color=\"Level0\",img_alpha=0,alpha=0.3, size=2)"
   ]
  },
  {
   "cell_type": "markdown",
   "id": "e70da737-c190-4e2c-ac08-7091eab11fbc",
   "metadata": {},
   "source": [
    "# 6. Compartment"
   ]
  },
  {
   "cell_type": "code",
   "execution_count": null,
   "id": "fa97a093-5037-4255-ae5f-cf386cb84e7e",
   "metadata": {},
   "outputs": [],
   "source": [
    "subset_outward.obs = pd.merge(subset_outward.obs, subset_adata.obs[['cell_id','Tumor']], on='cell_id', how='left')\n",
    "subset_outward.obs = pd.merge(subset_outward.obs, subset_inward.obs[['cell_id','Tumor_core']], on='cell_id', how='left')\n",
    "subset_outward.var_names_make_unique()\n",
    "subset_outward.obs.index = subset_outward.obs.index.astype(str)\n",
    "subset_outward.var.index = subset_outward.var.index.astype(str)"
   ]
  },
  {
   "cell_type": "code",
   "execution_count": null,
   "id": "e0863cf4-50c7-49c4-9f12-96a640c82caa",
   "metadata": {},
   "outputs": [],
   "source": [
    "subset_outward.obs['Core_margin'] = subset_outward.obs['Tumor_core'].apply(lambda x: 'Core' if x == 'Core' else 'Invasive_margin')\n"
   ]
  },
  {
   "cell_type": "code",
   "execution_count": null,
   "id": "e4821187-72af-4953-9c0b-4589ba3f0973",
   "metadata": {},
   "outputs": [],
   "source": [
    "adata.obs = pd.merge(adata.obs, subset_outward.obs[['cell_id','Core_margin']], on='cell_id', how='left')\n",
    "adata.obs = pd.merge(adata.obs, subset_adata.obs[['cell_id','Tumor']], on='cell_id', how='left')\n",
    "adata.obs = pd.merge(adata.obs, subset_inward.obs[['cell_id','Tumor_core']], on='cell_id', how='left')\n"
   ]
  },
  {
   "cell_type": "code",
   "execution_count": null,
   "id": "3a7e8d96-b1d2-4ea4-88a2-29e2b01d7f78",
   "metadata": {},
   "outputs": [],
   "source": [
    "adata.obs['Margin'] = pd.np.where(adata.obs['Core_margin'] == 'Core', 'Core',\n",
    "                      pd.np.where(adata.obs['Tumor'] == 'Tumor', 'Inner_margin',\n",
    "                                  pd.np.where(adata.obs['Core_margin'] == 'Invasive_margin', 'Outer_margin','Adjacent_tissue')))"
   ]
  }
 ],
 "metadata": {
  "kernelspec": {
   "display_name": "Python 3 (ipykernel)",
   "language": "python",
   "name": "python3"
  },
  "language_info": {
   "codemirror_mode": {
    "name": "ipython",
    "version": 3
   },
   "file_extension": ".py",
   "mimetype": "text/x-python",
   "name": "python",
   "nbconvert_exporter": "python",
   "pygments_lexer": "ipython3",
   "version": "3.10.9"
  }
 },
 "nbformat": 4,
 "nbformat_minor": 5
}
